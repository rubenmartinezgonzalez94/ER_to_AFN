{
 "nbformat": 4,
 "nbformat_minor": 0,
 "metadata": {
  "colab": {
   "provenance": []
  },
  "kernelspec": {
   "name": "python3",
   "language": "python",
   "display_name": "Python 3 (ipykernel)"
  },
  "language_info": {
   "name": "python"
  }
 },
 "cells": [
  {
   "cell_type": "markdown",
   "source": [
    "# Librerias\n"
   ],
   "metadata": {
    "id": "kyfE9Ya9ofFa"
   }
  },
  {
   "cell_type": "code",
   "source": [
    "!pip install pythonds"
   ],
   "metadata": {
    "colab": {
     "base_uri": "https://localhost:8080/"
    },
    "id": "8SqcwW_urerC",
    "outputId": "e9b3375b-f477-4b32-9106-aa17a6d6eca7"
   },
   "execution_count": null,
   "outputs": []
  },
  {
   "cell_type": "markdown",
   "source": [
    "# Importaciones"
   ],
   "metadata": {
    "id": "wDQ4aaHZ8XhC"
   }
  },
  {
   "cell_type": "code",
   "source": [
    "from pythonds.basic.stack import Stack\n",
    "\n",
    "import pydot\n",
    "from PIL import Image\n",
    "from IPython.display import display"
   ],
   "metadata": {
    "id": "qPcYVup88XRL"
   },
   "execution_count": null,
   "outputs": []
  },
  {
   "cell_type": "markdown",
   "source": [
    "# Parseo de la expresion regular"
   ],
   "metadata": {
    "id": "Lvd-v1dr4wRt"
   }
  },
  {
   "cell_type": "code",
   "execution_count": null,
   "metadata": {
    "id": "TmDh27S6hMs5"
   },
   "outputs": [],
   "source": [
    "def toPostfix(regularExpression):\n",
    "    operatorPrecedence = {'(': 0, 'U': 1, '.': 2, '+': 3, '*': 4}\n",
    "    alphabet = 'abcd'\n",
    "    operators = 'U.+*'\n",
    "\n",
    "    output = ''\n",
    "    operatorStack = Stack()\n",
    "\n",
    "    for token in regularExpression:\n",
    "        if token in operators:\n",
    "            while(not operatorStack.isEmpty() and \\\n",
    "              operatorStack.peek() != '(' and \\\n",
    "              operatorPrecedence[operatorStack.peek()] >= operatorPrecedence[token]):\n",
    "                output += operatorStack.pop()\n",
    "            operatorStack.push(token)\n",
    "        elif token == '(':\n",
    "            operatorStack.push(token)\n",
    "        elif token == ')':\n",
    "            while operatorStack.peek() != '(':\n",
    "                output += operatorStack.pop()\n",
    "            operatorStack.pop()\n",
    "        else:\n",
    "            output += token\n",
    "\n",
    "    while not operatorStack.isEmpty():\n",
    "        output += operatorStack.pop()\n",
    "\n",
    "    return output\n",
    "\n",
    "def insertDotOperator(regularExpression):\n",
    "    operators = 'U.+*'\n",
    "    output = ''\n",
    "\n",
    "    for index, token in enumerate(regularExpression):\n",
    "        output += token\n",
    "\n",
    "        if token == '(' or token == 'U' or token == '.':\n",
    "            continue\n",
    "        if index < len(regularExpression) - 1:\n",
    "            lookahead = regularExpression[index + 1]\n",
    "            if lookahead in operators or lookahead == ')':\n",
    "                continue\n",
    "            output += '.'\n",
    "\n",
    "    return output"
   ]
  },
  {
   "cell_type": "markdown",
   "source": [
    "# Procesamiento de la expresion regular parseada\n"
   ],
   "metadata": {
    "id": "qWE0zvMt47Aq"
   }
  },
  {
   "cell_type": "code",
   "source": [
    "class NFA:\n",
    "    def __init__(self, states, alphabet, transitions, initialState, finalState):\n",
    "        self.states = states\n",
    "        self.alphabet = alphabet\n",
    "        self.transitions = transitions\n",
    "        self.initialState = initialState\n",
    "        self.finalState = finalState\n",
    "\n",
    "def getMaxMinStates(leftNFA, rightNFA = None):\n",
    "    if rightNFA is not None:\n",
    "        states = leftNFA.states.union(rightNFA.states)\n",
    "    else:\n",
    "        states = leftNFA.states\n",
    "\n",
    "    return min(states), max(states)\n",
    "\n",
    "def makeConcatenation(leftNFA, rightNFA):\n",
    "    states = leftNFA.states.union(rightNFA.states)\n",
    "    alphabet = leftNFA.alphabet.union(rightNFA.alphabet)\n",
    "\n",
    "    transitions = {}\n",
    "    transitions.update(leftNFA.transitions)\n",
    "    transitions.update(rightNFA.transitions)\n",
    "    transitions.update({(leftNFA.finalState, ''): rightNFA.initialState})\n",
    "\n",
    "    initialState = leftNFA.initialState\n",
    "    finalState = rightNFA.finalState\n",
    "\n",
    "    return NFA(states, alphabet, transitions, initialState, finalState)\n",
    "\n",
    "def makeUnion(leftNFA, rightNFA):\n",
    "    minState, maxState = getMaxMinStates(leftNFA, rightNFA)\n",
    "    initialState = minState\n",
    "    finalState = maxState + 2\n",
    "\n",
    "    states = {initialState, finalState}\n",
    "    for state in leftNFA.states:\n",
    "        states.add(state + 1)\n",
    "\n",
    "    for state in rightNFA.states:\n",
    "        states.add(state + 1)\n",
    "\n",
    "    alphabet = leftNFA.alphabet.union(rightNFA.alphabet)\n",
    "\n",
    "    transitions = {}\n",
    "    transitions.update(leftNFA.transitions)\n",
    "    transitions.update(rightNFA.transitions)\n",
    "\n",
    "    newTransitions = {}\n",
    "    for key, value in transitions.items():\n",
    "        lst = list(key)\n",
    "        lst[0] = lst[0] + 1\n",
    "        key = tuple(lst)\n",
    "        newTransitions[key] = value + 1\n",
    "    transitions = newTransitions\n",
    "\n",
    "    transitions.update({(leftNFA.finalState + 1, ''): finalState})\n",
    "    transitions.update({(rightNFA.finalState + 1, ''): finalState})\n",
    "\n",
    "    transitions.update({(initialState, '', initialState + 1): leftNFA.initialState + 1})\n",
    "    transitions.update({(initialState, '', initialState + 2): rightNFA.initialState + 1})\n",
    "\n",
    "    return NFA(states, alphabet, transitions, initialState, finalState)\n",
    "\n",
    "def makeStar(nfa):\n",
    "    minState, maxState = getMaxMinStates(nfa)\n",
    "    initialState = minState\n",
    "    finalState = maxState + 2\n",
    "\n",
    "    states = {initialState, finalState}\n",
    "    for state in nfa.states:\n",
    "        states.add(state + 1)\n",
    "\n",
    "    alphabet = nfa.alphabet\n",
    "\n",
    "    transitions = {}\n",
    "    transitions.update(nfa.transitions)\n",
    "\n",
    "    newTransitions = {}\n",
    "    for key, value in transitions.items():\n",
    "        lst = list(key)\n",
    "        lst[0] = lst[0] + 1\n",
    "        key = tuple(lst)\n",
    "        newTransitions[key] = value + 1\n",
    "    transitions = newTransitions\n",
    "\n",
    "    transitions.update({(initialState, '', initialState + 1): nfa.initialState + 1})\n",
    "    transitions.update({(initialState, '', initialState + 2): finalState})\n",
    "\n",
    "    transitions.update({(nfa.finalState + 1, '', initialState + 1): nfa.initialState + 1})\n",
    "    transitions.update({(nfa.finalState + 1, '', initialState + 2): finalState})\n",
    "\n",
    "    return NFA(states, alphabet, transitions, initialState, finalState)\n",
    "\n",
    "def makePlus(nfa):\n",
    "    minState, maxState = getMaxMinStates(nfa)\n",
    "    initialState = minState\n",
    "    finalState = maxState + 2\n",
    "\n",
    "    states = {initialState, finalState}\n",
    "    for state in nfa.states:\n",
    "        states.add(state + 1)\n",
    "\n",
    "    alphabet = nfa.alphabet\n",
    "\n",
    "    transitions = {}\n",
    "    transitions.update(nfa.transitions)\n",
    "\n",
    "    newTransitions = {}\n",
    "    for key, value in transitions.items():\n",
    "        lst = list(key)\n",
    "        lst[0] = lst[0] + 1\n",
    "        key = tuple(lst)\n",
    "        newTransitions[key] = value + 1\n",
    "    transitions = newTransitions\n",
    "\n",
    "    transitions.update({(initialState, '', initialState + 1): nfa.initialState + 1})\n",
    "\n",
    "    transitions.update({(nfa.finalState + 1, '', initialState + 1): nfa.initialState + 1})\n",
    "    transitions.update({(nfa.finalState + 1, '', initialState + 2): finalState})\n",
    "\n",
    "    return NFA(states, alphabet, transitions, initialState, finalState)\n",
    "\n",
    "def makeBasicNFA(maxState, token):\n",
    "    initialState = maxState + 1\n",
    "    finalState = maxState + 2\n",
    "\n",
    "    states = {initialState, finalState}\n",
    "    alphabet = {token}\n",
    "    transitions = {(initialState, token): finalState}\n",
    "\n",
    "    return NFA(states, alphabet, transitions, initialState, finalState)\n",
    "\n",
    "def makeNFAFromRE(regularExpression):\n",
    "    stack = Stack()\n",
    "\n",
    "    for token in regularExpression:\n",
    "        if token == '.':\n",
    "            rightNFA = stack.pop()\n",
    "            leftNFA = stack.pop()\n",
    "            stack.push(makeConcatenation(leftNFA, rightNFA))\n",
    "        elif token == 'U':\n",
    "            rightNFA = stack.pop()\n",
    "            leftNFA = stack.pop()\n",
    "            stack.push(makeUnion(leftNFA, rightNFA))\n",
    "        elif token == '*':\n",
    "            nfa = stack.pop()\n",
    "            stack.push(makeStar(nfa))\n",
    "        elif token == '+':\n",
    "            nfa = stack.pop()\n",
    "            stack.push(makePlus(nfa))\n",
    "        else:\n",
    "            if not stack.isEmpty():\n",
    "                _, maxState = getMaxMinStates(stack.peek())\n",
    "            else:\n",
    "                maxState = 0\n",
    "            stack.push(makeBasicNFA(maxState, token))\n",
    "\n",
    "    return stack.pop()"
   ],
   "metadata": {
    "id": "j_LVKCF546R4"
   },
   "execution_count": null,
   "outputs": []
  },
  {
   "cell_type": "markdown",
   "source": [
    "# Graficacion"
   ],
   "metadata": {
    "id": "S2qKRCp_uChJ"
   }
  },
  {
   "cell_type": "code",
   "source": [
    "def drawNFA(nfa):\n",
    "    graph = pydot.Dot(graph_type='digraph')\n",
    "    for state in nfa.states:\n",
    "        if state == nfa.finalState:\n",
    "            node = pydot.Node(str(state), shape='doublecircle', label=f'q{state}')\n",
    "        elif state == nfa.initialState:\n",
    "            node = pydot.Node(str(state), shape='circle', style='bold', label=f'q{state}')\n",
    "        else:\n",
    "            node = pydot.Node(str(state), shape='circle', label=f'q{state}')\n",
    "        graph.add_node(node)\n",
    "\n",
    "    for transicion, destino in nfa.transitions.items():\n",
    "        if transicion[1] == '':\n",
    "            edge = pydot.Edge(str(transicion[0]), str(destino), label='ε')\n",
    "        else:\n",
    "            edge = pydot.Edge(str(transicion[0]), str(destino), label=transicion[1])\n",
    "        graph.add_edge(edge)\n",
    "\n",
    "    graph.write_png('./afn.png')\n",
    "    im = Image.open('./afn.png')\n",
    "    display(im)"
   ],
   "metadata": {
    "id": "UXKMXBvOuG34"
   },
   "execution_count": null,
   "outputs": []
  },
  {
   "cell_type": "markdown",
   "source": [
    "# Pruebas\n"
   ],
   "metadata": {
    "id": "wN0v9MATuLAf"
   }
  },
  {
   "cell_type": "code",
   "source": [
    "# Se parsea la expresion regular y se convierte a su forma Sufija\n",
    "regularExpression = input(\"Enter the regular expression: \")\n",
    "regularExpression = insertDotOperator(regularExpression)\n",
    "regularExpression = toPostfix(regularExpression)\n",
    "\n",
    "# Construye el AFND\n",
    "nfa = makeNFAFromRE(regularExpression)\n",
    "\n",
    "# Muestra la representación textual del AFND\n",
    "print(\"States:\", nfa.states)\n",
    "print(\"Alphabet:\", nfa.alphabet)\n",
    "\n",
    "print(\"Transitions:\")\n",
    "for key, value in nfa.transitions.items():\n",
    "    print(f'   ({key[0]}, {key[1]}) -> {value}')\n",
    "\n",
    "print(\"Initial State:\", nfa.initialState)\n",
    "print(\"Final State:\", nfa.finalState)\n",
    "\n",
    "# Dibuja el AFND\n",
    "drawNFA(nfa)"
   ],
   "metadata": {
    "colab": {
     "base_uri": "https://localhost:8080/",
     "height": 1000
    },
    "id": "7Yr0-oEbuOsz",
    "outputId": "e7fe2d92-2311-45f8-8180-e9ea29d04173"
   },
   "execution_count": null,
   "outputs": []
  }
 ]
}
