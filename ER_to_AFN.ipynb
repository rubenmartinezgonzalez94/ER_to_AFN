{
 "nbformat": 4,
 "nbformat_minor": 0,
 "metadata": {
  "colab": {
   "provenance": []
  },
  "kernelspec": {
   "name": "python3",
   "language": "python",
   "display_name": "Python 3 (ipykernel)"
  },
  "language_info": {
   "name": "python"
  }
 },
 "cells": [
  {
   "cell_type": "code",
   "source": [
    "!pip install pydot\n",
    "!pip install pydotplus"
   ],
   "metadata": {
    "colab": {
     "base_uri": "https://localhost:8080/"
    },
    "id": "4_JpDMdbi6Uh",
    "outputId": "49c4d13f-9242-4eb2-95b1-549bc6b2c619"
   },
   "execution_count": null,
   "outputs": []
  },
  {
   "cell_type": "code",
   "execution_count": 15,
   "metadata": {
    "colab": {
     "base_uri": "https://localhost:8080/",
     "height": 1000
    },
    "id": "eRmm3UxCifgF",
    "outputId": "5f7cd9b5-56c2-4baf-852d-87e75dd1268f",
    "ExecuteTime": {
     "end_time": "2023-11-03T19:12:08.435238794Z",
     "start_time": "2023-11-03T19:12:03.921764914Z"
    }
   },
   "outputs": [
    {
     "name": "stdout",
     "output_type": "stream",
     "text": [
      "Estados: {0, 1, 2, 3}\n",
      "Alfabeto: {'b', 'a'}\n",
      "Transiciones: {(0, 'a'): 1, (1, ''): 2, (2, 'b'): 3}\n",
      "Estado Inicial: 0\n",
      "Estados de Aceptación: {3}\n"
     ]
    },
    {
     "data": {
      "text/plain": "<PIL.PngImagePlugin.PngImageFile image mode=RGBA size=83x430 at 0x7FB1360BC9D0>",
      "image/png": "[encoded data removed]"
     },
     "metadata": {},
     "output_type": "display_data"
    }
   ],
   "source": [
    "import pydot\n",
    "from PIL import Image\n",
    "from IPython.display import display\n",
    "\n",
    "class AFND:\n",
    "    def __init__(self, estados, alfabeto, transiciones, estado_inicial, estados_aceptacion):\n",
    "        self.estados = estados\n",
    "        self.alfabeto = alfabeto\n",
    "        self.transiciones = transiciones\n",
    "        self.estado_inicial = estado_inicial\n",
    "        self.estados_aceptacion = estados_aceptacion\n",
    "\n",
    "def construir_afnd(expresion_regular):\n",
    "    estados = set()\n",
    "    alfabeto = set()\n",
    "    transiciones = {}\n",
    "    estado_inicial = 0\n",
    "    estados_aceptacion = set()\n",
    "    estado_actual = estado_inicial\n",
    "    estados.add(estado_actual)\n",
    "\n",
    "    for caracter in expresion_regular:\n",
    "        if caracter in ('a', 'b', 'c'):\n",
    "            alfabeto.add(caracter)\n",
    "            estado_siguiente = estado_actual + 1\n",
    "            estados.add(estado_siguiente)\n",
    "            transiciones[(estado_actual, caracter)] = estado_siguiente\n",
    "            estado_actual = estado_siguiente\n",
    "        elif caracter == '.':\n",
    "            # Concatenación: Agregar una transición ε\n",
    "            estado_siguiente = estado_actual + 1\n",
    "            estados.add(estado_siguiente)\n",
    "            transiciones[(estado_actual, '')] = estado_siguiente\n",
    "            estado_actual = estado_siguiente\n",
    "        elif caracter == '*':\n",
    "            # Operador estrella: Agregar una transición ε desde el último estado de repetición hasta el primer estado de repetición\n",
    "            transiciones[(estado_actual, '')] = estado_inicial\n",
    "        elif caracter == 'U':\n",
    "            # Operador unión: Crear un nuevo estado inicial y conectar con ε a los estados iniciales de ambas expresiones\n",
    "            nuevo_estado_inicial = estado_inicial - 1\n",
    "\n",
    "    # Agregar el estado final al último estado de la expresión regular\n",
    "    estados_aceptacion.add(estado_actual)\n",
    "\n",
    "    return AFND(estados, alfabeto, transiciones, estado_inicial, estados_aceptacion)\n",
    "\n",
    "def dibujar_afnd(afnd):\n",
    "    graph = pydot.Dot(graph_type='digraph')\n",
    "    for estado in afnd.estados:\n",
    "        if estado == afnd.estado_inicial:\n",
    "            node = pydot.Node(str(estado), shape='ellipse', style='bold', label=f'q{estado}')\n",
    "        elif estado in afnd.estados_aceptacion:\n",
    "            node = pydot.Node(str(estado), shape='doublecircle', label=f'q{estado}')\n",
    "        else:\n",
    "            node = pydot.Node(str(estado), shape='ellipse', label=f'q{estado}')\n",
    "        graph.add_node(node)\n",
    "\n",
    "    for transicion, destino in afnd.transiciones.items():\n",
    "        if transicion[1] == '':\n",
    "            edge = pydot.Edge(str(transicion[0]), str(destino), label='ε')\n",
    "        else:\n",
    "            edge = pydot.Edge(str(transicion[0]), str(destino), label=transicion[1])\n",
    "        graph.add_edge(edge)\n",
    "\n",
    "    graph.write_png('./afnd.png')\n",
    "    im = Image.open('./afnd.png')\n",
    "    display(im)\n",
    "\n",
    "# Solicita la expresión regular al usuario\n",
    "expresion_regular = input(\"Introduce la expresión regular: \")\n",
    "\n",
    "# Construye el AFND\n",
    "afnd = construir_afnd(expresion_regular)\n",
    "\n",
    "# Muestra la representación textual del AFND\n",
    "print(\"Estados:\", afnd.estados)\n",
    "print(\"Alfabeto:\", afnd.alfabeto)\n",
    "print(\"Transiciones:\", afnd.transiciones)\n",
    "print(\"Estado Inicial:\", afnd.estado_inicial)\n",
    "print(\"Estados de Aceptación:\", afnd.estados_aceptacion)\n",
    "\n",
    "# Dibuja el AFND y muestra la imagen\n",
    "dibujar_afnd(afnd)"
   ]
  },
  {
   "cell_type": "code",
   "execution_count": null,
   "outputs": [],
   "source": [],
   "metadata": {
    "collapsed": false
   }
  }
 ]
}
